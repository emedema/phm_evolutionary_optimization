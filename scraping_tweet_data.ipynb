{
 "cells": [
  {
   "cell_type": "code",
   "execution_count": 1,
   "id": "00a994c2-3c0c-4772-9014-ff90a2372dcb",
   "metadata": {},
   "outputs": [],
   "source": [
    "import pandas as pd\n",
    "# importing libraries and packages\n",
    "import snscrape.modules.twitter as sntwitter"
   ]
  },
  {
   "cell_type": "markdown",
   "id": "b12e8ec4-80fd-4add-b68a-488cc24b68c6",
   "metadata": {},
   "source": [
    "# Scraping Tweet Data\n",
    "\n",
    "We have the tweet ids for the tweets we are looking for but not the content of the tweet.\n",
    "\n",
    "To receive the content of the tweet, we are going to be scraping the data as getting access to the API is not going to happen in time (Thanks Elon).\n",
    "\n",
    "We can use the [snscrape](\"https://github.com/JustAnotherArchivist/snscrape\") library to scrape the data. \n",
    "\n",
    "First, we will do this with the PHM_2017 data so let's read in the CSV."
   ]
  },
  {
   "cell_type": "code",
   "execution_count": 2,
   "id": "fead7b20-2c84-4412-b762-f7f55adfa357",
   "metadata": {},
   "outputs": [
    {
     "data": {
      "text/html": [
       "<div>\n",
       "<style scoped>\n",
       "    .dataframe tbody tr th:only-of-type {\n",
       "        vertical-align: middle;\n",
       "    }\n",
       "\n",
       "    .dataframe tbody tr th {\n",
       "        vertical-align: top;\n",
       "    }\n",
       "\n",
       "    .dataframe thead th {\n",
       "        text-align: right;\n",
       "    }\n",
       "</style>\n",
       "<table border=\"1\" class=\"dataframe\">\n",
       "  <thead>\n",
       "    <tr style=\"text-align: right;\">\n",
       "      <th></th>\n",
       "      <th>Tweet ID</th>\n",
       "      <th>Disease</th>\n",
       "      <th>Label</th>\n",
       "    </tr>\n",
       "  </thead>\n",
       "  <tbody>\n",
       "    <tr>\n",
       "      <th>0</th>\n",
       "      <td>6003319713</td>\n",
       "      <td>Influenza</td>\n",
       "      <td>3</td>\n",
       "    </tr>\n",
       "    <tr>\n",
       "      <th>1</th>\n",
       "      <td>6002055513</td>\n",
       "      <td>Influenza</td>\n",
       "      <td>3</td>\n",
       "    </tr>\n",
       "    <tr>\n",
       "      <th>2</th>\n",
       "      <td>5994839708</td>\n",
       "      <td>Influenza</td>\n",
       "      <td>2</td>\n",
       "    </tr>\n",
       "    <tr>\n",
       "      <th>3</th>\n",
       "      <td>5991525204</td>\n",
       "      <td>Influenza</td>\n",
       "      <td>3</td>\n",
       "    </tr>\n",
       "    <tr>\n",
       "      <th>4</th>\n",
       "      <td>5989718714</td>\n",
       "      <td>Influenza</td>\n",
       "      <td>2</td>\n",
       "    </tr>\n",
       "  </tbody>\n",
       "</table>\n",
       "</div>"
      ],
      "text/plain": [
       "     Tweet ID    Disease  Label\n",
       "0  6003319713  Influenza      3\n",
       "1  6002055513  Influenza      3\n",
       "2  5994839708  Influenza      2\n",
       "3  5991525204  Influenza      3\n",
       "4  5989718714  Influenza      2"
      ]
     },
     "execution_count": 2,
     "metadata": {},
     "output_type": "execute_result"
    }
   ],
   "source": [
    "df = pd.read_csv(\"new_data/all_flu.csv\")\n",
    "df.head()"
   ]
  },
  {
   "cell_type": "code",
   "execution_count": 3,
   "id": "40b7de4e-1a40-4e2f-bd60-be7f4295a45a",
   "metadata": {},
   "outputs": [],
   "source": [
    "# get list of ids\n",
    "ids = list(df[\"Tweet ID\"])"
   ]
  },
  {
   "cell_type": "markdown",
   "id": "2e9803bf-8aa0-4476-8b84-bc4db5f75ee8",
   "metadata": {},
   "source": [
    "Now that we have the ids, we can now scrape a few at a time. We need to be careful to only scrape a few at a time so as to not overwhelm the servers. Also, Twitter on guest client block multiple pagination. Sometimes in one query there is possible to call for 3 paginations. To avoid this limitation divide scrapping period for smaller parts."
   ]
  },
  {
   "cell_type": "code",
   "execution_count": 4,
   "id": "b197a201-9766-48f6-93e6-b05491f41ede",
   "metadata": {},
   "outputs": [
    {
     "name": "stdout",
     "output_type": "stream",
     "text": [
      "Processed 0 tweets\n",
      "Processed 500 tweets\n",
      "Processed 1000 tweets\n",
      "Processed 1500 tweets\n",
      "Processed 2000 tweets\n",
      "Processed 2500 tweets\n",
      "Processed 3000 tweets\n",
      "Processed 3500 tweets\n",
      "Processed 4000 tweets\n"
     ]
    },
    {
     "data": {
      "text/html": [
       "<div>\n",
       "<style scoped>\n",
       "    .dataframe tbody tr th:only-of-type {\n",
       "        vertical-align: middle;\n",
       "    }\n",
       "\n",
       "    .dataframe tbody tr th {\n",
       "        vertical-align: top;\n",
       "    }\n",
       "\n",
       "    .dataframe thead th {\n",
       "        text-align: right;\n",
       "    }\n",
       "</style>\n",
       "<table border=\"1\" class=\"dataframe\">\n",
       "  <thead>\n",
       "    <tr style=\"text-align: right;\">\n",
       "      <th></th>\n",
       "      <th>Tweet Id</th>\n",
       "      <th>Text</th>\n",
       "      <th>Username</th>\n",
       "    </tr>\n",
       "  </thead>\n",
       "  <tbody>\n",
       "    <tr>\n",
       "      <th>0</th>\n",
       "      <td>6003319713</td>\n",
       "      <td>Getting a little fed up with having (Insert Ra...</td>\n",
       "      <td>zenemu</td>\n",
       "    </tr>\n",
       "    <tr>\n",
       "      <th>1</th>\n",
       "      <td>5991525204</td>\n",
       "      <td>Just getting over swine flu.  It must have bee...</td>\n",
       "      <td>writerbrock</td>\n",
       "    </tr>\n",
       "    <tr>\n",
       "      <th>2</th>\n",
       "      <td>5989718714</td>\n",
       "      <td>this flu season is a horrible. everyone is get...</td>\n",
       "      <td>olow</td>\n",
       "    </tr>\n",
       "    <tr>\n",
       "      <th>3</th>\n",
       "      <td>5986621813</td>\n",
       "      <td>so glad @blakewsmith won't be getting the pig ...</td>\n",
       "      <td>leighwsmith</td>\n",
       "    </tr>\n",
       "    <tr>\n",
       "      <th>4</th>\n",
       "      <td>5986140306</td>\n",
       "      <td>@saracrow Luck luck. I got mine Friday.  My ar...</td>\n",
       "      <td>BoyceDan</td>\n",
       "    </tr>\n",
       "  </tbody>\n",
       "</table>\n",
       "</div>"
      ],
      "text/plain": [
       "     Tweet Id                                               Text     Username\n",
       "0  6003319713  Getting a little fed up with having (Insert Ra...       zenemu\n",
       "1  5991525204  Just getting over swine flu.  It must have bee...  writerbrock\n",
       "2  5989718714  this flu season is a horrible. everyone is get...         olow\n",
       "3  5986621813  so glad @blakewsmith won't be getting the pig ...  leighwsmith\n",
       "4  5986140306  @saracrow Luck luck. I got mine Friday.  My ar...     BoyceDan"
      ]
     },
     "execution_count": 4,
     "metadata": {},
     "output_type": "execute_result"
    }
   ],
   "source": [
    "# Creating list to append tweet data \n",
    "tweets_list1 = []\n",
    "\n",
    "count = 0\n",
    "for j in ids:\n",
    "    # Using TwitterSearchScraper to scrape data and append tweets to list\n",
    "    try:\n",
    "        for i,tweet in enumerate(sntwitter.TwitterTweetScraper(j).get_items()): #declare a username\n",
    "            if hasattr(tweet, 'rawContent'):\n",
    "                tweets_list1.append([tweet.id, tweet.rawContent, tweet.user.username]) #declare the attributes to be returned\n",
    "            if count % 500 == 0:\n",
    "                print(\"Processed \" + str(count) + \" tweets\");\n",
    "            count +=1\n",
    "    except:\n",
    "        continue\n",
    "    \n",
    "# Creating a dataframe from the tweets list above \n",
    "tweets_df1 = pd.DataFrame(tweets_list1, columns=['Tweet Id', 'Text', 'Username'])\n",
    "tweets_df1.head()"
   ]
  },
  {
   "cell_type": "code",
   "execution_count": 5,
   "id": "89b52132-6ed4-44dd-85f1-d0c19e0a2a04",
   "metadata": {},
   "outputs": [],
   "source": [
    "tweets_df1.to_csv(\"tweets/all_flu_tweets.csv\")"
   ]
  },
  {
   "cell_type": "code",
   "execution_count": null,
   "id": "e0741757-4cf8-4f4f-b192-8ced807a541a",
   "metadata": {},
   "outputs": [],
   "source": []
  }
 ],
 "metadata": {
  "kernelspec": {
   "display_name": "Python 3 (ipykernel)",
   "language": "python",
   "name": "python3"
  },
  "language_info": {
   "codemirror_mode": {
    "name": "ipython",
    "version": 3
   },
   "file_extension": ".py",
   "mimetype": "text/x-python",
   "name": "python",
   "nbconvert_exporter": "python",
   "pygments_lexer": "ipython3",
   "version": "3.9.12"
  }
 },
 "nbformat": 4,
 "nbformat_minor": 5
}
