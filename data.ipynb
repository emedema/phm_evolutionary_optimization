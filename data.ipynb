{
  "nbformat": 4,
  "nbformat_minor": 0,
  "metadata": {
    "colab": {
      "provenance": []
    },
    "kernelspec": {
      "name": "python3",
      "display_name": "Python 3"
    },
    "language_info": {
      "name": "python"
    }
  },
  "cells": [
    {
      "cell_type": "code",
      "source": [
        "#packages\n",
        "import pandas as pd"
      ],
      "metadata": {
        "id": "fEvHgo-ge525"
      },
      "execution_count": 1,
      "outputs": []
    },
    {
      "cell_type": "markdown",
      "source": [
        "\n",
        "###Reading in Flu text files, making them csv files and re-labeling them\n",
        "\n",
        "\t- not related vs related\n",
        "\t\t\t- related removed because most related appear afterward in other 2 datasets\n",
        "\n",
        "\t- infection vs awareness\n",
        "\t\t\t- infection removed because infection its covered by self vs others after\n",
        "\n",
        "\t- self vs others\n",
        "\t\t\t- changed others label from 0 to 2 and self label from 1 to 3\n",
        "  \n",
        "Final labels:\n",
        "\n",
        "- 0: not related\n",
        "- 1: awareness\n",
        "- 2: others\n",
        "- 3: self\n"
      ],
      "metadata": {
        "id": "VEJTFKIQYRek"
      }
    },
    {
      "cell_type": "markdown",
      "source": [
        "### Working with 2009 Flu Data"
      ],
      "metadata": {
        "id": "UTlDDqMhxLnr"
      }
    },
    {
      "cell_type": "code",
      "source": [
        "RvNR2009 = pd.read_csv (r'/content/RelatedVsNotRelated2009TweetIDs.txt', delimiter = '\t')\n",
        "RvNR2009.columns = ['Tweet ID', 'Label']\n",
        "RvNR2009['Disease'] = 'Influenza' \n",
        "onlyNR = RvNR2009.query(\"Label == 0\")"
      ],
      "metadata": {
        "id": "aEvtEX9Xap_z"
      },
      "execution_count": 2,
      "outputs": []
    },
    {
      "cell_type": "code",
      "source": [
        "AvI2009 = pd.read_csv (r'/content/AwarenessVsInfection2009TweetIDs.txt', delimiter = '\t')\n",
        "AvI2009.columns = ['Tweet ID', 'Label']\n",
        "AvI2009['Disease'] = 'Influenza' \n",
        "onlyA = AvI2009.query(\"Label == 1\")"
      ],
      "metadata": {
        "id": "UrfPGRXgb9QP"
      },
      "execution_count": 3,
      "outputs": []
    },
    {
      "cell_type": "code",
      "source": [
        "SvO2009 = pd.read_csv (r'/content/SelfVsOthers2009TweetIDs.txt', delimiter = '\t')\n",
        "SvO2009.columns = ['Tweet ID', 'Label']\n",
        "\n",
        "SvO2009['Disease'] = 'Influenza' \n",
        "for index, row in SvO2009.iterrows():\n",
        "  if (row[\"Label\"]) == 0:\n",
        "    SvO2009.at[index, \"Label\"] = 2\n",
        "  elif (row[\"Label\"]) == 1:\n",
        "    SvO2009.at[index, \"Label\"] = 3"
      ],
      "metadata": {
        "id": "55TYVE4_cadP"
      },
      "execution_count": 4,
      "outputs": []
    },
    {
      "cell_type": "code",
      "source": [
        "final2009 = pd.concat([onlyNR, onlyA, SvO2009], ignore_index=True)\n",
        "final2009 = final2009.drop_duplicates(ignore_index=True, keep='last')\n",
        "swap_list = ['Tweet ID', 'Disease', 'Label']\n",
        "final2009 = final2009.reindex(columns=swap_list)"
      ],
      "metadata": {
        "id": "4-caHN0DckMb"
      },
      "execution_count": 5,
      "outputs": []
    },
    {
      "cell_type": "code",
      "source": [
        "final2009.to_csv (r'/content/final2009.csv', index=None)\n",
        "final2009"
      ],
      "metadata": {
        "colab": {
          "base_uri": "https://localhost:8080/",
          "height": 419
        },
        "id": "NMOlXyEqdYZn",
        "outputId": "80144b09-6980-4ccd-9692-2a982655a4b1"
      },
      "execution_count": 6,
      "outputs": [
        {
          "output_type": "execute_result",
          "data": {
            "text/plain": [
              "        Tweet ID    Disease  Label\n",
              "0     6003455112  Influenza      0\n",
              "1     6002109706  Influenza      0\n",
              "2     5990850113  Influenza      0\n",
              "3     5990798305  Influenza      0\n",
              "4     4636047505  Influenza      0\n",
              "...          ...        ...    ...\n",
              "4232  5126038412  Influenza      2\n",
              "4233  5410094700  Influenza      2\n",
              "4234  4648001506  Influenza      2\n",
              "4235  5291655108  Influenza      2\n",
              "4236  5061012907  Influenza      2\n",
              "\n",
              "[4237 rows x 3 columns]"
            ],
            "text/html": [
              "\n",
              "  <div id=\"df-a50d68f3-e84f-48d8-977f-6fe75dcc085f\">\n",
              "    <div class=\"colab-df-container\">\n",
              "      <div>\n",
              "<style scoped>\n",
              "    .dataframe tbody tr th:only-of-type {\n",
              "        vertical-align: middle;\n",
              "    }\n",
              "\n",
              "    .dataframe tbody tr th {\n",
              "        vertical-align: top;\n",
              "    }\n",
              "\n",
              "    .dataframe thead th {\n",
              "        text-align: right;\n",
              "    }\n",
              "</style>\n",
              "<table border=\"1\" class=\"dataframe\">\n",
              "  <thead>\n",
              "    <tr style=\"text-align: right;\">\n",
              "      <th></th>\n",
              "      <th>Tweet ID</th>\n",
              "      <th>Disease</th>\n",
              "      <th>Label</th>\n",
              "    </tr>\n",
              "  </thead>\n",
              "  <tbody>\n",
              "    <tr>\n",
              "      <th>0</th>\n",
              "      <td>6003455112</td>\n",
              "      <td>Influenza</td>\n",
              "      <td>0</td>\n",
              "    </tr>\n",
              "    <tr>\n",
              "      <th>1</th>\n",
              "      <td>6002109706</td>\n",
              "      <td>Influenza</td>\n",
              "      <td>0</td>\n",
              "    </tr>\n",
              "    <tr>\n",
              "      <th>2</th>\n",
              "      <td>5990850113</td>\n",
              "      <td>Influenza</td>\n",
              "      <td>0</td>\n",
              "    </tr>\n",
              "    <tr>\n",
              "      <th>3</th>\n",
              "      <td>5990798305</td>\n",
              "      <td>Influenza</td>\n",
              "      <td>0</td>\n",
              "    </tr>\n",
              "    <tr>\n",
              "      <th>4</th>\n",
              "      <td>4636047505</td>\n",
              "      <td>Influenza</td>\n",
              "      <td>0</td>\n",
              "    </tr>\n",
              "    <tr>\n",
              "      <th>...</th>\n",
              "      <td>...</td>\n",
              "      <td>...</td>\n",
              "      <td>...</td>\n",
              "    </tr>\n",
              "    <tr>\n",
              "      <th>4232</th>\n",
              "      <td>5126038412</td>\n",
              "      <td>Influenza</td>\n",
              "      <td>2</td>\n",
              "    </tr>\n",
              "    <tr>\n",
              "      <th>4233</th>\n",
              "      <td>5410094700</td>\n",
              "      <td>Influenza</td>\n",
              "      <td>2</td>\n",
              "    </tr>\n",
              "    <tr>\n",
              "      <th>4234</th>\n",
              "      <td>4648001506</td>\n",
              "      <td>Influenza</td>\n",
              "      <td>2</td>\n",
              "    </tr>\n",
              "    <tr>\n",
              "      <th>4235</th>\n",
              "      <td>5291655108</td>\n",
              "      <td>Influenza</td>\n",
              "      <td>2</td>\n",
              "    </tr>\n",
              "    <tr>\n",
              "      <th>4236</th>\n",
              "      <td>5061012907</td>\n",
              "      <td>Influenza</td>\n",
              "      <td>2</td>\n",
              "    </tr>\n",
              "  </tbody>\n",
              "</table>\n",
              "<p>4237 rows × 3 columns</p>\n",
              "</div>\n",
              "      <button class=\"colab-df-convert\" onclick=\"convertToInteractive('df-a50d68f3-e84f-48d8-977f-6fe75dcc085f')\"\n",
              "              title=\"Convert this dataframe to an interactive table.\"\n",
              "              style=\"display:none;\">\n",
              "        \n",
              "  <svg xmlns=\"http://www.w3.org/2000/svg\" height=\"24px\"viewBox=\"0 0 24 24\"\n",
              "       width=\"24px\">\n",
              "    <path d=\"M0 0h24v24H0V0z\" fill=\"none\"/>\n",
              "    <path d=\"M18.56 5.44l.94 2.06.94-2.06 2.06-.94-2.06-.94-.94-2.06-.94 2.06-2.06.94zm-11 1L8.5 8.5l.94-2.06 2.06-.94-2.06-.94L8.5 2.5l-.94 2.06-2.06.94zm10 10l.94 2.06.94-2.06 2.06-.94-2.06-.94-.94-2.06-.94 2.06-2.06.94z\"/><path d=\"M17.41 7.96l-1.37-1.37c-.4-.4-.92-.59-1.43-.59-.52 0-1.04.2-1.43.59L10.3 9.45l-7.72 7.72c-.78.78-.78 2.05 0 2.83L4 21.41c.39.39.9.59 1.41.59.51 0 1.02-.2 1.41-.59l7.78-7.78 2.81-2.81c.8-.78.8-2.07 0-2.86zM5.41 20L4 18.59l7.72-7.72 1.47 1.35L5.41 20z\"/>\n",
              "  </svg>\n",
              "      </button>\n",
              "      \n",
              "  <style>\n",
              "    .colab-df-container {\n",
              "      display:flex;\n",
              "      flex-wrap:wrap;\n",
              "      gap: 12px;\n",
              "    }\n",
              "\n",
              "    .colab-df-convert {\n",
              "      background-color: #E8F0FE;\n",
              "      border: none;\n",
              "      border-radius: 50%;\n",
              "      cursor: pointer;\n",
              "      display: none;\n",
              "      fill: #1967D2;\n",
              "      height: 32px;\n",
              "      padding: 0 0 0 0;\n",
              "      width: 32px;\n",
              "    }\n",
              "\n",
              "    .colab-df-convert:hover {\n",
              "      background-color: #E2EBFA;\n",
              "      box-shadow: 0px 1px 2px rgba(60, 64, 67, 0.3), 0px 1px 3px 1px rgba(60, 64, 67, 0.15);\n",
              "      fill: #174EA6;\n",
              "    }\n",
              "\n",
              "    [theme=dark] .colab-df-convert {\n",
              "      background-color: #3B4455;\n",
              "      fill: #D2E3FC;\n",
              "    }\n",
              "\n",
              "    [theme=dark] .colab-df-convert:hover {\n",
              "      background-color: #434B5C;\n",
              "      box-shadow: 0px 1px 3px 1px rgba(0, 0, 0, 0.15);\n",
              "      filter: drop-shadow(0px 1px 2px rgba(0, 0, 0, 0.3));\n",
              "      fill: #FFFFFF;\n",
              "    }\n",
              "  </style>\n",
              "\n",
              "      <script>\n",
              "        const buttonEl =\n",
              "          document.querySelector('#df-a50d68f3-e84f-48d8-977f-6fe75dcc085f button.colab-df-convert');\n",
              "        buttonEl.style.display =\n",
              "          google.colab.kernel.accessAllowed ? 'block' : 'none';\n",
              "\n",
              "        async function convertToInteractive(key) {\n",
              "          const element = document.querySelector('#df-a50d68f3-e84f-48d8-977f-6fe75dcc085f');\n",
              "          const dataTable =\n",
              "            await google.colab.kernel.invokeFunction('convertToInteractive',\n",
              "                                                     [key], {});\n",
              "          if (!dataTable) return;\n",
              "\n",
              "          const docLinkHtml = 'Like what you see? Visit the ' +\n",
              "            '<a target=\"_blank\" href=https://colab.research.google.com/notebooks/data_table.ipynb>data table notebook</a>'\n",
              "            + ' to learn more about interactive tables.';\n",
              "          element.innerHTML = '';\n",
              "          dataTable['output_type'] = 'display_data';\n",
              "          await google.colab.output.renderOutput(dataTable, element);\n",
              "          const docLink = document.createElement('div');\n",
              "          docLink.innerHTML = docLinkHtml;\n",
              "          element.appendChild(docLink);\n",
              "        }\n",
              "      </script>\n",
              "    </div>\n",
              "  </div>\n",
              "  "
            ]
          },
          "metadata": {},
          "execution_count": 6
        }
      ]
    },
    {
      "cell_type": "markdown",
      "source": [
        "###Working with 2012 Flu Data"
      ],
      "metadata": {
        "id": "5J0oXw1Sxb0f"
      }
    },
    {
      "cell_type": "code",
      "source": [
        "RvNR2012 = pd.read_csv (r'/content/RelatedVsNotRelated2012TweetIDs.txt', delimiter = '\t')\n",
        "RvNR2012.columns = ['Tweet ID', 'Label']\n",
        "RvNR2012['Disease'] = 'Influenza' \n",
        "onlyNR = RvNR2012.query(\"Label == 0\")"
      ],
      "metadata": {
        "id": "YitBwQWSefOy"
      },
      "execution_count": 7,
      "outputs": []
    },
    {
      "cell_type": "code",
      "source": [
        "AvI2012 = pd.read_csv (r'/content/AwarenessVsInfection2012TweetIDs.txt', delimiter = '\t')\n",
        "AvI2012.columns = ['Tweet ID', 'Label']\n",
        "AvI2012['Disease'] = 'Influenza' \n",
        "onlyA = AvI2012.query(\"Label == 1\")"
      ],
      "metadata": {
        "id": "GNokOA7EefyO"
      },
      "execution_count": 8,
      "outputs": []
    },
    {
      "cell_type": "code",
      "source": [
        "SvO2012 = pd.read_csv (r'/content/SelfVsOthers2012TweetIDs.txt', delimiter = '\t')\n",
        "SvO2012.columns = ['Tweet ID', 'Label']\n",
        "\n",
        "SvO2012['Disease'] = 'Influenza' \n",
        "for index, row in SvO2012.iterrows():\n",
        "  if (row[\"Label\"]) == 0:\n",
        "    SvO2012.at[index, \"Label\"] = 2\n",
        "  elif (row[\"Label\"]) == 1:\n",
        "    SvO2012.at[index, \"Label\"] = 3"
      ],
      "metadata": {
        "id": "TpxIJdB1egJ8"
      },
      "execution_count": 9,
      "outputs": []
    },
    {
      "cell_type": "code",
      "source": [
        "final2012 = pd.concat([onlyNR, onlyA, SvO2012], ignore_index=True)\n",
        "final2012 = final2012.drop_duplicates(ignore_index=True, keep='last')\n",
        "swap_list = ['Tweet ID', 'Disease', 'Label']\n",
        "final2012 = final2012.reindex(columns=swap_list)"
      ],
      "metadata": {
        "id": "DVNoSmleeghH"
      },
      "execution_count": 10,
      "outputs": []
    },
    {
      "cell_type": "code",
      "source": [
        "final2012.to_csv (r'/content/final2012.csv', index=None)\n",
        "final2012"
      ],
      "metadata": {
        "colab": {
          "base_uri": "https://localhost:8080/",
          "height": 419
        },
        "id": "glEB1Y7Heg05",
        "outputId": "1325cc90-1ae3-4e42-8e71-2e4f7e34c5ba"
      },
      "execution_count": 11,
      "outputs": [
        {
          "output_type": "execute_result",
          "data": {
            "text/plain": [
              "        Tweet ID    Disease  Label\n",
              "0     4063122008  Influenza      0\n",
              "1     4063124211  Influenza      0\n",
              "2     4063623202  Influenza      0\n",
              "3     4063915008  Influenza      0\n",
              "4     4066673901  Influenza      0\n",
              "...          ...        ...    ...\n",
              "3987  4812604309  Influenza      3\n",
              "3988  4812950000  Influenza      2\n",
              "3989  4813405606  Influenza      3\n",
              "3990  4814093314  Influenza      2\n",
              "3991  4814312602  Influenza      3\n",
              "\n",
              "[3992 rows x 3 columns]"
            ],
            "text/html": [
              "\n",
              "  <div id=\"df-ed47df28-6633-45f0-a01d-f8b58af372d7\">\n",
              "    <div class=\"colab-df-container\">\n",
              "      <div>\n",
              "<style scoped>\n",
              "    .dataframe tbody tr th:only-of-type {\n",
              "        vertical-align: middle;\n",
              "    }\n",
              "\n",
              "    .dataframe tbody tr th {\n",
              "        vertical-align: top;\n",
              "    }\n",
              "\n",
              "    .dataframe thead th {\n",
              "        text-align: right;\n",
              "    }\n",
              "</style>\n",
              "<table border=\"1\" class=\"dataframe\">\n",
              "  <thead>\n",
              "    <tr style=\"text-align: right;\">\n",
              "      <th></th>\n",
              "      <th>Tweet ID</th>\n",
              "      <th>Disease</th>\n",
              "      <th>Label</th>\n",
              "    </tr>\n",
              "  </thead>\n",
              "  <tbody>\n",
              "    <tr>\n",
              "      <th>0</th>\n",
              "      <td>4063122008</td>\n",
              "      <td>Influenza</td>\n",
              "      <td>0</td>\n",
              "    </tr>\n",
              "    <tr>\n",
              "      <th>1</th>\n",
              "      <td>4063124211</td>\n",
              "      <td>Influenza</td>\n",
              "      <td>0</td>\n",
              "    </tr>\n",
              "    <tr>\n",
              "      <th>2</th>\n",
              "      <td>4063623202</td>\n",
              "      <td>Influenza</td>\n",
              "      <td>0</td>\n",
              "    </tr>\n",
              "    <tr>\n",
              "      <th>3</th>\n",
              "      <td>4063915008</td>\n",
              "      <td>Influenza</td>\n",
              "      <td>0</td>\n",
              "    </tr>\n",
              "    <tr>\n",
              "      <th>4</th>\n",
              "      <td>4066673901</td>\n",
              "      <td>Influenza</td>\n",
              "      <td>0</td>\n",
              "    </tr>\n",
              "    <tr>\n",
              "      <th>...</th>\n",
              "      <td>...</td>\n",
              "      <td>...</td>\n",
              "      <td>...</td>\n",
              "    </tr>\n",
              "    <tr>\n",
              "      <th>3987</th>\n",
              "      <td>4812604309</td>\n",
              "      <td>Influenza</td>\n",
              "      <td>3</td>\n",
              "    </tr>\n",
              "    <tr>\n",
              "      <th>3988</th>\n",
              "      <td>4812950000</td>\n",
              "      <td>Influenza</td>\n",
              "      <td>2</td>\n",
              "    </tr>\n",
              "    <tr>\n",
              "      <th>3989</th>\n",
              "      <td>4813405606</td>\n",
              "      <td>Influenza</td>\n",
              "      <td>3</td>\n",
              "    </tr>\n",
              "    <tr>\n",
              "      <th>3990</th>\n",
              "      <td>4814093314</td>\n",
              "      <td>Influenza</td>\n",
              "      <td>2</td>\n",
              "    </tr>\n",
              "    <tr>\n",
              "      <th>3991</th>\n",
              "      <td>4814312602</td>\n",
              "      <td>Influenza</td>\n",
              "      <td>3</td>\n",
              "    </tr>\n",
              "  </tbody>\n",
              "</table>\n",
              "<p>3992 rows × 3 columns</p>\n",
              "</div>\n",
              "      <button class=\"colab-df-convert\" onclick=\"convertToInteractive('df-ed47df28-6633-45f0-a01d-f8b58af372d7')\"\n",
              "              title=\"Convert this dataframe to an interactive table.\"\n",
              "              style=\"display:none;\">\n",
              "        \n",
              "  <svg xmlns=\"http://www.w3.org/2000/svg\" height=\"24px\"viewBox=\"0 0 24 24\"\n",
              "       width=\"24px\">\n",
              "    <path d=\"M0 0h24v24H0V0z\" fill=\"none\"/>\n",
              "    <path d=\"M18.56 5.44l.94 2.06.94-2.06 2.06-.94-2.06-.94-.94-2.06-.94 2.06-2.06.94zm-11 1L8.5 8.5l.94-2.06 2.06-.94-2.06-.94L8.5 2.5l-.94 2.06-2.06.94zm10 10l.94 2.06.94-2.06 2.06-.94-2.06-.94-.94-2.06-.94 2.06-2.06.94z\"/><path d=\"M17.41 7.96l-1.37-1.37c-.4-.4-.92-.59-1.43-.59-.52 0-1.04.2-1.43.59L10.3 9.45l-7.72 7.72c-.78.78-.78 2.05 0 2.83L4 21.41c.39.39.9.59 1.41.59.51 0 1.02-.2 1.41-.59l7.78-7.78 2.81-2.81c.8-.78.8-2.07 0-2.86zM5.41 20L4 18.59l7.72-7.72 1.47 1.35L5.41 20z\"/>\n",
              "  </svg>\n",
              "      </button>\n",
              "      \n",
              "  <style>\n",
              "    .colab-df-container {\n",
              "      display:flex;\n",
              "      flex-wrap:wrap;\n",
              "      gap: 12px;\n",
              "    }\n",
              "\n",
              "    .colab-df-convert {\n",
              "      background-color: #E8F0FE;\n",
              "      border: none;\n",
              "      border-radius: 50%;\n",
              "      cursor: pointer;\n",
              "      display: none;\n",
              "      fill: #1967D2;\n",
              "      height: 32px;\n",
              "      padding: 0 0 0 0;\n",
              "      width: 32px;\n",
              "    }\n",
              "\n",
              "    .colab-df-convert:hover {\n",
              "      background-color: #E2EBFA;\n",
              "      box-shadow: 0px 1px 2px rgba(60, 64, 67, 0.3), 0px 1px 3px 1px rgba(60, 64, 67, 0.15);\n",
              "      fill: #174EA6;\n",
              "    }\n",
              "\n",
              "    [theme=dark] .colab-df-convert {\n",
              "      background-color: #3B4455;\n",
              "      fill: #D2E3FC;\n",
              "    }\n",
              "\n",
              "    [theme=dark] .colab-df-convert:hover {\n",
              "      background-color: #434B5C;\n",
              "      box-shadow: 0px 1px 3px 1px rgba(0, 0, 0, 0.15);\n",
              "      filter: drop-shadow(0px 1px 2px rgba(0, 0, 0, 0.3));\n",
              "      fill: #FFFFFF;\n",
              "    }\n",
              "  </style>\n",
              "\n",
              "      <script>\n",
              "        const buttonEl =\n",
              "          document.querySelector('#df-ed47df28-6633-45f0-a01d-f8b58af372d7 button.colab-df-convert');\n",
              "        buttonEl.style.display =\n",
              "          google.colab.kernel.accessAllowed ? 'block' : 'none';\n",
              "\n",
              "        async function convertToInteractive(key) {\n",
              "          const element = document.querySelector('#df-ed47df28-6633-45f0-a01d-f8b58af372d7');\n",
              "          const dataTable =\n",
              "            await google.colab.kernel.invokeFunction('convertToInteractive',\n",
              "                                                     [key], {});\n",
              "          if (!dataTable) return;\n",
              "\n",
              "          const docLinkHtml = 'Like what you see? Visit the ' +\n",
              "            '<a target=\"_blank\" href=https://colab.research.google.com/notebooks/data_table.ipynb>data table notebook</a>'\n",
              "            + ' to learn more about interactive tables.';\n",
              "          element.innerHTML = '';\n",
              "          dataTable['output_type'] = 'display_data';\n",
              "          await google.colab.output.renderOutput(dataTable, element);\n",
              "          const docLink = document.createElement('div');\n",
              "          docLink.innerHTML = docLinkHtml;\n",
              "          element.appendChild(docLink);\n",
              "        }\n",
              "      </script>\n",
              "    </div>\n",
              "  </div>\n",
              "  "
            ]
          },
          "metadata": {},
          "execution_count": 11
        }
      ]
    },
    {
      "cell_type": "markdown",
      "source": [
        "###Combining 2009 and 2012 Flu Data"
      ],
      "metadata": {
        "id": "AJeIhkNyxjNf"
      }
    },
    {
      "cell_type": "code",
      "source": [
        "all_flu = pd.concat([final2009, final2012], ignore_index=True)\n",
        "all_flu = all_flu.drop_duplicates(ignore_index=True, keep='last')"
      ],
      "metadata": {
        "id": "HxCud7wzhSOW"
      },
      "execution_count": 12,
      "outputs": []
    },
    {
      "cell_type": "code",
      "source": [
        "all_flu.to_csv (r'/content/all_flu.csv', index=None)\n",
        "all_flu"
      ],
      "metadata": {
        "colab": {
          "base_uri": "https://localhost:8080/",
          "height": 419
        },
        "id": "TkFlbEUThjwA",
        "outputId": "a018faf3-68f3-4a5c-8235-214329f5fad3"
      },
      "execution_count": 13,
      "outputs": [
        {
          "output_type": "execute_result",
          "data": {
            "text/plain": [
              "        Tweet ID    Disease  Label\n",
              "0     6003455112  Influenza      0\n",
              "1     6002109706  Influenza      0\n",
              "2     5990850113  Influenza      0\n",
              "3     5990798305  Influenza      0\n",
              "4     5989668305  Influenza      0\n",
              "...          ...        ...    ...\n",
              "8055  4812604309  Influenza      3\n",
              "8056  4812950000  Influenza      2\n",
              "8057  4813405606  Influenza      3\n",
              "8058  4814093314  Influenza      2\n",
              "8059  4814312602  Influenza      3\n",
              "\n",
              "[8060 rows x 3 columns]"
            ],
            "text/html": [
              "\n",
              "  <div id=\"df-a374fb6f-1414-4df5-8b7f-7bfe40c660b3\">\n",
              "    <div class=\"colab-df-container\">\n",
              "      <div>\n",
              "<style scoped>\n",
              "    .dataframe tbody tr th:only-of-type {\n",
              "        vertical-align: middle;\n",
              "    }\n",
              "\n",
              "    .dataframe tbody tr th {\n",
              "        vertical-align: top;\n",
              "    }\n",
              "\n",
              "    .dataframe thead th {\n",
              "        text-align: right;\n",
              "    }\n",
              "</style>\n",
              "<table border=\"1\" class=\"dataframe\">\n",
              "  <thead>\n",
              "    <tr style=\"text-align: right;\">\n",
              "      <th></th>\n",
              "      <th>Tweet ID</th>\n",
              "      <th>Disease</th>\n",
              "      <th>Label</th>\n",
              "    </tr>\n",
              "  </thead>\n",
              "  <tbody>\n",
              "    <tr>\n",
              "      <th>0</th>\n",
              "      <td>6003455112</td>\n",
              "      <td>Influenza</td>\n",
              "      <td>0</td>\n",
              "    </tr>\n",
              "    <tr>\n",
              "      <th>1</th>\n",
              "      <td>6002109706</td>\n",
              "      <td>Influenza</td>\n",
              "      <td>0</td>\n",
              "    </tr>\n",
              "    <tr>\n",
              "      <th>2</th>\n",
              "      <td>5990850113</td>\n",
              "      <td>Influenza</td>\n",
              "      <td>0</td>\n",
              "    </tr>\n",
              "    <tr>\n",
              "      <th>3</th>\n",
              "      <td>5990798305</td>\n",
              "      <td>Influenza</td>\n",
              "      <td>0</td>\n",
              "    </tr>\n",
              "    <tr>\n",
              "      <th>4</th>\n",
              "      <td>5989668305</td>\n",
              "      <td>Influenza</td>\n",
              "      <td>0</td>\n",
              "    </tr>\n",
              "    <tr>\n",
              "      <th>...</th>\n",
              "      <td>...</td>\n",
              "      <td>...</td>\n",
              "      <td>...</td>\n",
              "    </tr>\n",
              "    <tr>\n",
              "      <th>8055</th>\n",
              "      <td>4812604309</td>\n",
              "      <td>Influenza</td>\n",
              "      <td>3</td>\n",
              "    </tr>\n",
              "    <tr>\n",
              "      <th>8056</th>\n",
              "      <td>4812950000</td>\n",
              "      <td>Influenza</td>\n",
              "      <td>2</td>\n",
              "    </tr>\n",
              "    <tr>\n",
              "      <th>8057</th>\n",
              "      <td>4813405606</td>\n",
              "      <td>Influenza</td>\n",
              "      <td>3</td>\n",
              "    </tr>\n",
              "    <tr>\n",
              "      <th>8058</th>\n",
              "      <td>4814093314</td>\n",
              "      <td>Influenza</td>\n",
              "      <td>2</td>\n",
              "    </tr>\n",
              "    <tr>\n",
              "      <th>8059</th>\n",
              "      <td>4814312602</td>\n",
              "      <td>Influenza</td>\n",
              "      <td>3</td>\n",
              "    </tr>\n",
              "  </tbody>\n",
              "</table>\n",
              "<p>8060 rows × 3 columns</p>\n",
              "</div>\n",
              "      <button class=\"colab-df-convert\" onclick=\"convertToInteractive('df-a374fb6f-1414-4df5-8b7f-7bfe40c660b3')\"\n",
              "              title=\"Convert this dataframe to an interactive table.\"\n",
              "              style=\"display:none;\">\n",
              "        \n",
              "  <svg xmlns=\"http://www.w3.org/2000/svg\" height=\"24px\"viewBox=\"0 0 24 24\"\n",
              "       width=\"24px\">\n",
              "    <path d=\"M0 0h24v24H0V0z\" fill=\"none\"/>\n",
              "    <path d=\"M18.56 5.44l.94 2.06.94-2.06 2.06-.94-2.06-.94-.94-2.06-.94 2.06-2.06.94zm-11 1L8.5 8.5l.94-2.06 2.06-.94-2.06-.94L8.5 2.5l-.94 2.06-2.06.94zm10 10l.94 2.06.94-2.06 2.06-.94-2.06-.94-.94-2.06-.94 2.06-2.06.94z\"/><path d=\"M17.41 7.96l-1.37-1.37c-.4-.4-.92-.59-1.43-.59-.52 0-1.04.2-1.43.59L10.3 9.45l-7.72 7.72c-.78.78-.78 2.05 0 2.83L4 21.41c.39.39.9.59 1.41.59.51 0 1.02-.2 1.41-.59l7.78-7.78 2.81-2.81c.8-.78.8-2.07 0-2.86zM5.41 20L4 18.59l7.72-7.72 1.47 1.35L5.41 20z\"/>\n",
              "  </svg>\n",
              "      </button>\n",
              "      \n",
              "  <style>\n",
              "    .colab-df-container {\n",
              "      display:flex;\n",
              "      flex-wrap:wrap;\n",
              "      gap: 12px;\n",
              "    }\n",
              "\n",
              "    .colab-df-convert {\n",
              "      background-color: #E8F0FE;\n",
              "      border: none;\n",
              "      border-radius: 50%;\n",
              "      cursor: pointer;\n",
              "      display: none;\n",
              "      fill: #1967D2;\n",
              "      height: 32px;\n",
              "      padding: 0 0 0 0;\n",
              "      width: 32px;\n",
              "    }\n",
              "\n",
              "    .colab-df-convert:hover {\n",
              "      background-color: #E2EBFA;\n",
              "      box-shadow: 0px 1px 2px rgba(60, 64, 67, 0.3), 0px 1px 3px 1px rgba(60, 64, 67, 0.15);\n",
              "      fill: #174EA6;\n",
              "    }\n",
              "\n",
              "    [theme=dark] .colab-df-convert {\n",
              "      background-color: #3B4455;\n",
              "      fill: #D2E3FC;\n",
              "    }\n",
              "\n",
              "    [theme=dark] .colab-df-convert:hover {\n",
              "      background-color: #434B5C;\n",
              "      box-shadow: 0px 1px 3px 1px rgba(0, 0, 0, 0.15);\n",
              "      filter: drop-shadow(0px 1px 2px rgba(0, 0, 0, 0.3));\n",
              "      fill: #FFFFFF;\n",
              "    }\n",
              "  </style>\n",
              "\n",
              "      <script>\n",
              "        const buttonEl =\n",
              "          document.querySelector('#df-a374fb6f-1414-4df5-8b7f-7bfe40c660b3 button.colab-df-convert');\n",
              "        buttonEl.style.display =\n",
              "          google.colab.kernel.accessAllowed ? 'block' : 'none';\n",
              "\n",
              "        async function convertToInteractive(key) {\n",
              "          const element = document.querySelector('#df-a374fb6f-1414-4df5-8b7f-7bfe40c660b3');\n",
              "          const dataTable =\n",
              "            await google.colab.kernel.invokeFunction('convertToInteractive',\n",
              "                                                     [key], {});\n",
              "          if (!dataTable) return;\n",
              "\n",
              "          const docLinkHtml = 'Like what you see? Visit the ' +\n",
              "            '<a target=\"_blank\" href=https://colab.research.google.com/notebooks/data_table.ipynb>data table notebook</a>'\n",
              "            + ' to learn more about interactive tables.';\n",
              "          element.innerHTML = '';\n",
              "          dataTable['output_type'] = 'display_data';\n",
              "          await google.colab.output.renderOutput(dataTable, element);\n",
              "          const docLink = document.createElement('div');\n",
              "          docLink.innerHTML = docLinkHtml;\n",
              "          element.appendChild(docLink);\n",
              "        }\n",
              "      </script>\n",
              "    </div>\n",
              "  </div>\n",
              "  "
            ]
          },
          "metadata": {},
          "execution_count": 13
        }
      ]
    },
    {
      "cell_type": "markdown",
      "source": [
        "###Working with phm2017 data: change to csv \n",
        "\n",
        "Labels:\n",
        "* 0: non-health\n",
        "* 1: awareness\n",
        "* 2: other-mention\n",
        "* 3: self-mention\n"
      ],
      "metadata": {
        "id": "bNNJ2ut_d5d0"
      }
    },
    {
      "cell_type": "code",
      "source": [
        "#phm2017 read in and change to csv\n",
        "\n",
        "phm2017_read = pd.read_csv ('/content/PHM2017.txt', delimiter = '\t')\n",
        "phm2017_read.columns = ['Tweet ID', 'Disease', 'Label']\n",
        "phm2017_read.to_csv (r'/content/PHM2017.csv', index=None)\n"
      ],
      "metadata": {
        "id": "C1W8_1O6eU51"
      },
      "execution_count": 14,
      "outputs": []
    },
    {
      "cell_type": "code",
      "source": [
        "phm2017_read"
      ],
      "metadata": {
        "colab": {
          "base_uri": "https://localhost:8080/",
          "height": 419
        },
        "id": "OYwNNEk9o0Um",
        "outputId": "5c1cff4f-f405-435b-d0cd-94ed89066033"
      },
      "execution_count": 15,
      "outputs": [
        {
          "output_type": "execute_result",
          "data": {
            "text/plain": [
              "                Tweet ID    Disease  Label\n",
              "0     811746810733723649  alzheimer      1\n",
              "1     902649153792098304  alzheimer      1\n",
              "2     811695298359783424  alzheimer      0\n",
              "3     811696543501864961  alzheimer      1\n",
              "4     813212976257896449  alzheimer      1\n",
              "...                  ...        ...    ...\n",
              "7186  813207357689892864     stroke      3\n",
              "7187  903019970292060169     stroke      0\n",
              "7188  902668028055175168     stroke      1\n",
              "7189  902669513962991616     stroke      0\n",
              "7190  813196462196658177     stroke      0\n",
              "\n",
              "[7191 rows x 3 columns]"
            ],
            "text/html": [
              "\n",
              "  <div id=\"df-0e6c4790-3a22-417a-bf38-2577982e0268\">\n",
              "    <div class=\"colab-df-container\">\n",
              "      <div>\n",
              "<style scoped>\n",
              "    .dataframe tbody tr th:only-of-type {\n",
              "        vertical-align: middle;\n",
              "    }\n",
              "\n",
              "    .dataframe tbody tr th {\n",
              "        vertical-align: top;\n",
              "    }\n",
              "\n",
              "    .dataframe thead th {\n",
              "        text-align: right;\n",
              "    }\n",
              "</style>\n",
              "<table border=\"1\" class=\"dataframe\">\n",
              "  <thead>\n",
              "    <tr style=\"text-align: right;\">\n",
              "      <th></th>\n",
              "      <th>Tweet ID</th>\n",
              "      <th>Disease</th>\n",
              "      <th>Label</th>\n",
              "    </tr>\n",
              "  </thead>\n",
              "  <tbody>\n",
              "    <tr>\n",
              "      <th>0</th>\n",
              "      <td>811746810733723649</td>\n",
              "      <td>alzheimer</td>\n",
              "      <td>1</td>\n",
              "    </tr>\n",
              "    <tr>\n",
              "      <th>1</th>\n",
              "      <td>902649153792098304</td>\n",
              "      <td>alzheimer</td>\n",
              "      <td>1</td>\n",
              "    </tr>\n",
              "    <tr>\n",
              "      <th>2</th>\n",
              "      <td>811695298359783424</td>\n",
              "      <td>alzheimer</td>\n",
              "      <td>0</td>\n",
              "    </tr>\n",
              "    <tr>\n",
              "      <th>3</th>\n",
              "      <td>811696543501864961</td>\n",
              "      <td>alzheimer</td>\n",
              "      <td>1</td>\n",
              "    </tr>\n",
              "    <tr>\n",
              "      <th>4</th>\n",
              "      <td>813212976257896449</td>\n",
              "      <td>alzheimer</td>\n",
              "      <td>1</td>\n",
              "    </tr>\n",
              "    <tr>\n",
              "      <th>...</th>\n",
              "      <td>...</td>\n",
              "      <td>...</td>\n",
              "      <td>...</td>\n",
              "    </tr>\n",
              "    <tr>\n",
              "      <th>7186</th>\n",
              "      <td>813207357689892864</td>\n",
              "      <td>stroke</td>\n",
              "      <td>3</td>\n",
              "    </tr>\n",
              "    <tr>\n",
              "      <th>7187</th>\n",
              "      <td>903019970292060169</td>\n",
              "      <td>stroke</td>\n",
              "      <td>0</td>\n",
              "    </tr>\n",
              "    <tr>\n",
              "      <th>7188</th>\n",
              "      <td>902668028055175168</td>\n",
              "      <td>stroke</td>\n",
              "      <td>1</td>\n",
              "    </tr>\n",
              "    <tr>\n",
              "      <th>7189</th>\n",
              "      <td>902669513962991616</td>\n",
              "      <td>stroke</td>\n",
              "      <td>0</td>\n",
              "    </tr>\n",
              "    <tr>\n",
              "      <th>7190</th>\n",
              "      <td>813196462196658177</td>\n",
              "      <td>stroke</td>\n",
              "      <td>0</td>\n",
              "    </tr>\n",
              "  </tbody>\n",
              "</table>\n",
              "<p>7191 rows × 3 columns</p>\n",
              "</div>\n",
              "      <button class=\"colab-df-convert\" onclick=\"convertToInteractive('df-0e6c4790-3a22-417a-bf38-2577982e0268')\"\n",
              "              title=\"Convert this dataframe to an interactive table.\"\n",
              "              style=\"display:none;\">\n",
              "        \n",
              "  <svg xmlns=\"http://www.w3.org/2000/svg\" height=\"24px\"viewBox=\"0 0 24 24\"\n",
              "       width=\"24px\">\n",
              "    <path d=\"M0 0h24v24H0V0z\" fill=\"none\"/>\n",
              "    <path d=\"M18.56 5.44l.94 2.06.94-2.06 2.06-.94-2.06-.94-.94-2.06-.94 2.06-2.06.94zm-11 1L8.5 8.5l.94-2.06 2.06-.94-2.06-.94L8.5 2.5l-.94 2.06-2.06.94zm10 10l.94 2.06.94-2.06 2.06-.94-2.06-.94-.94-2.06-.94 2.06-2.06.94z\"/><path d=\"M17.41 7.96l-1.37-1.37c-.4-.4-.92-.59-1.43-.59-.52 0-1.04.2-1.43.59L10.3 9.45l-7.72 7.72c-.78.78-.78 2.05 0 2.83L4 21.41c.39.39.9.59 1.41.59.51 0 1.02-.2 1.41-.59l7.78-7.78 2.81-2.81c.8-.78.8-2.07 0-2.86zM5.41 20L4 18.59l7.72-7.72 1.47 1.35L5.41 20z\"/>\n",
              "  </svg>\n",
              "      </button>\n",
              "      \n",
              "  <style>\n",
              "    .colab-df-container {\n",
              "      display:flex;\n",
              "      flex-wrap:wrap;\n",
              "      gap: 12px;\n",
              "    }\n",
              "\n",
              "    .colab-df-convert {\n",
              "      background-color: #E8F0FE;\n",
              "      border: none;\n",
              "      border-radius: 50%;\n",
              "      cursor: pointer;\n",
              "      display: none;\n",
              "      fill: #1967D2;\n",
              "      height: 32px;\n",
              "      padding: 0 0 0 0;\n",
              "      width: 32px;\n",
              "    }\n",
              "\n",
              "    .colab-df-convert:hover {\n",
              "      background-color: #E2EBFA;\n",
              "      box-shadow: 0px 1px 2px rgba(60, 64, 67, 0.3), 0px 1px 3px 1px rgba(60, 64, 67, 0.15);\n",
              "      fill: #174EA6;\n",
              "    }\n",
              "\n",
              "    [theme=dark] .colab-df-convert {\n",
              "      background-color: #3B4455;\n",
              "      fill: #D2E3FC;\n",
              "    }\n",
              "\n",
              "    [theme=dark] .colab-df-convert:hover {\n",
              "      background-color: #434B5C;\n",
              "      box-shadow: 0px 1px 3px 1px rgba(0, 0, 0, 0.15);\n",
              "      filter: drop-shadow(0px 1px 2px rgba(0, 0, 0, 0.3));\n",
              "      fill: #FFFFFF;\n",
              "    }\n",
              "  </style>\n",
              "\n",
              "      <script>\n",
              "        const buttonEl =\n",
              "          document.querySelector('#df-0e6c4790-3a22-417a-bf38-2577982e0268 button.colab-df-convert');\n",
              "        buttonEl.style.display =\n",
              "          google.colab.kernel.accessAllowed ? 'block' : 'none';\n",
              "\n",
              "        async function convertToInteractive(key) {\n",
              "          const element = document.querySelector('#df-0e6c4790-3a22-417a-bf38-2577982e0268');\n",
              "          const dataTable =\n",
              "            await google.colab.kernel.invokeFunction('convertToInteractive',\n",
              "                                                     [key], {});\n",
              "          if (!dataTable) return;\n",
              "\n",
              "          const docLinkHtml = 'Like what you see? Visit the ' +\n",
              "            '<a target=\"_blank\" href=https://colab.research.google.com/notebooks/data_table.ipynb>data table notebook</a>'\n",
              "            + ' to learn more about interactive tables.';\n",
              "          element.innerHTML = '';\n",
              "          dataTable['output_type'] = 'display_data';\n",
              "          await google.colab.output.renderOutput(dataTable, element);\n",
              "          const docLink = document.createElement('div');\n",
              "          docLink.innerHTML = docLinkHtml;\n",
              "          element.appendChild(docLink);\n",
              "        }\n",
              "      </script>\n",
              "    </div>\n",
              "  </div>\n",
              "  "
            ]
          },
          "metadata": {},
          "execution_count": 15
        }
      ]
    },
    {
      "cell_type": "markdown",
      "source": [
        "- counts\n",
        "(counts of disease, labelling within them, total label (without taking disease into mind)\n"
      ],
      "metadata": {
        "id": "WR62mvt_vVKs"
      }
    },
    {
      "cell_type": "code",
      "source": [
        "# all-flu data counts\n",
        "print (\"all_flu labels:\")\n",
        "print(all_flu['Label'].value_counts())\n",
        "\n",
        "print (\"phm2017 disease:\")\n",
        "print(phm2017_read['Disease'].value_counts())\n",
        "\n",
        "print (\"phm2017 labels:\")\n",
        "print(phm2017_read['Label'].value_counts())\n",
        "\n",
        "print(\"phm2017 labels in diseases\")\n",
        "print(\"alzheimers labels\")\n",
        "temp = phm2017_read.loc[phm2017_read['Disease'] == 'alzheimer']\n",
        "print(temp['Label'].value_counts())\n",
        "\n",
        "\n",
        "print(\"cancer labels\")\n",
        "temp = phm2017_read.loc[phm2017_read['Disease'] == 'cancer']\n",
        "print(temp['Label'].value_counts())\n",
        "\n",
        "print(\"stroke labels\")\n",
        "temp = phm2017_read.loc[phm2017_read['Disease'] == 'stroke']\n",
        "print(temp['Label'].value_counts())\n",
        "\n",
        "print(\"heart attack labels\")\n",
        "temp = phm2017_read.loc[phm2017_read['Disease'] == 'heart attack']\n",
        "print(temp['Label'].value_counts())\n",
        "\n",
        "print(\"depression labels\")\n",
        "temp = phm2017_read.loc[phm2017_read['Disease'] == 'depression']\n",
        "print(temp['Label'].value_counts())\n",
        "\n",
        "print(\"parkinson labels\")\n",
        "temp = phm2017_read.loc[phm2017_read['Disease'] == 'parkinson']\n",
        "print(temp['Label'].value_counts())\n",
        "\n",
        "#graph it\n",
        "# %'s + distribution of labels"
      ],
      "metadata": {
        "colab": {
          "base_uri": "https://localhost:8080/"
        },
        "id": "raIOdjBPz5b-",
        "outputId": "9eea9d0f-b3c1-4f9e-a98f-268d419879b4"
      },
      "execution_count": 16,
      "outputs": [
        {
          "output_type": "stream",
          "name": "stdout",
          "text": [
            "all_flu labels:\n",
            "0    2698\n",
            "3    2314\n",
            "1    2027\n",
            "2    1021\n",
            "Name: Label, dtype: int64\n",
            "phm2017 disease:\n",
            "alzheimer       1255\n",
            "cancer          1242\n",
            "stroke          1222\n",
            "heart attack    1219\n",
            "depression      1213\n",
            "parkinson       1040\n",
            "Name: Disease, dtype: int64\n",
            "phm2017 labels:\n",
            "1    3601\n",
            "0    2178\n",
            "2     813\n",
            "3     599\n",
            "Name: Label, dtype: int64\n",
            "phm2017 labels in diseases\n",
            "alzheimers labels\n",
            "1    1004\n",
            "2     212\n",
            "0      26\n",
            "3      13\n",
            "Name: Label, dtype: int64\n",
            "cancer labels\n",
            "1    771\n",
            "2    221\n",
            "0    211\n",
            "3     39\n",
            "Name: Label, dtype: int64\n",
            "stroke labels\n",
            "0    701\n",
            "1    353\n",
            "2    137\n",
            "3     31\n",
            "Name: Label, dtype: int64\n",
            "heart attack labels\n",
            "0    855\n",
            "1    207\n",
            "2    109\n",
            "3     48\n",
            "Name: Label, dtype: int64\n",
            "depression labels\n",
            "1    594\n",
            "3    449\n",
            "0    130\n",
            "2     40\n",
            "Name: Label, dtype: int64\n",
            "parkinson labels\n",
            "1    672\n",
            "0    255\n",
            "2     94\n",
            "3     19\n",
            "Name: Label, dtype: int64\n"
          ]
        }
      ]
    },
    {
      "cell_type": "code",
      "source": [
        "print (\"all_flu labels:\")\n",
        "flu_disease = ['0', '1', '2', '3']\n",
        "df = all_flu['Label'].value_counts()\n",
        "df = df.reset_index()\n",
        "df.columns = ['Label', 'Count']\n",
        "df2 = df.sort_values('Label')\n",
        "print(df2)\n",
        "flu_disease_count = df2.Count.values.tolist()\n",
        "#print(phm2017_disease_count)\n",
        "\n",
        "\n",
        "df = pd.DataFrame({'Label': flu_disease, 'Count':flu_disease_count})\n",
        "ax = df.plot.bar(x='Label', y='Count', rot=0)\n",
        "\n",
        "print('distribution:')\n",
        "total = df2['Count'].sum() \n",
        "dist = []\n",
        "for index, row in df2.iterrows():\n",
        "  dist.append(row['Count']/total)\n",
        "print(dist)"
      ],
      "metadata": {
        "colab": {
          "base_uri": "https://localhost:8080/",
          "height": 585
        },
        "id": "ekW8PsSrQZvW",
        "outputId": "746b9a61-6d11-4c51-ea32-32874eaed7a3"
      },
      "execution_count": 56,
      "outputs": [
        {
          "output_type": "stream",
          "name": "stdout",
          "text": [
            "all_flu labels:\n",
            "   Label  Count\n",
            "0      0   2698\n",
            "2      1   2027\n",
            "3      2   1021\n",
            "1      3   2314\n",
            "distribution:\n",
            "[0.3347394540942928, 0.2514888337468983, 0.12667493796526055, 0.2870967741935484]\n"
          ]
        },
        {
          "output_type": "display_data",
          "data": {
            "text/plain": [
              "<Figure size 640x480 with 1 Axes>"
            ],
            "image/png": "[encoded data removed]"
          },
          "metadata": {}
        }
      ]
    },
    {
      "cell_type": "code",
      "source": [
        "print (\"phm2017 disease:\")\n",
        "phm2017_disease = ['alzheimer', 'cancer', 'stroke', 'heart attack', 'depression', 'parkinson']\n",
        "df = phm2017_read['Disease'].value_counts()\n",
        "df = df.reset_index()\n",
        "print(df)\n",
        "df.columns = ['Disease', 'Count']\n",
        "phm2017_disease_count = df.Count.values.tolist()\n",
        "#print(phm2017_disease_count)\n",
        "\n",
        "\n",
        "df = pd.DataFrame({'Disease': phm2017_disease, 'Count':phm2017_disease_count})\n",
        "ax = df.plot.bar(x='Disease', y='Count', rot=0)\n",
        "\n",
        "print('distribution:')\n",
        "total = df['Count'].sum() \n",
        "dist = []\n",
        "for index, row in df.iterrows():\n",
        "  dist.append(row['Count']/total)\n",
        "print(dist)"
      ],
      "metadata": {
        "colab": {
          "base_uri": "https://localhost:8080/",
          "height": 639
        },
        "id": "xx4uoVRaK87D",
        "outputId": "5896ecf7-ef36-4751-c4c0-941e5ce3de01"
      },
      "execution_count": 59,
      "outputs": [
        {
          "output_type": "stream",
          "name": "stdout",
          "text": [
            "phm2017 disease:\n",
            "          index  Disease\n",
            "0     alzheimer     1255\n",
            "1        cancer     1242\n",
            "2        stroke     1222\n",
            "3  heart attack     1219\n",
            "4    depression     1213\n",
            "5     parkinson     1040\n",
            "distribution:\n",
            "[0.17452371019329718, 0.17271589486858574, 0.16993464052287582, 0.16951745237101934, 0.16868307606730634, 0.1446252259769156]\n"
          ]
        },
        {
          "output_type": "display_data",
          "data": {
            "text/plain": [
              "<Figure size 640x480 with 1 Axes>"
            ],
            "image/png": "[encoded data removed]"
          },
          "metadata": {}
        }
      ]
    },
    {
      "cell_type": "code",
      "source": [
        "print (\"phm2017 labels:\")\n",
        "phm2017_disease = ['0', '1', '2', '3']\n",
        "df = phm2017_read['Label'].value_counts()\n",
        "df = df.reset_index()\n",
        "df.columns = ['Label', 'Count']\n",
        "df2 = df.sort_values('Label')\n",
        "print(df2)\n",
        "phm2017_disease_count = df2.Count.values.tolist()\n",
        "#print(phm2017_disease_count)\n",
        "\n",
        "\n",
        "df = pd.DataFrame({'Label': phm2017_disease, 'Count':phm2017_disease_count})\n",
        "ax = df.plot.bar(x='Label', y='Count', rot=0)\n",
        "\n",
        "print('distribution:')\n",
        "total = df2['Count'].sum() \n",
        "dist = []\n",
        "for index, row in df2.iterrows():\n",
        "  dist.append(row['Count']/total)\n",
        "print(dist)"
      ],
      "metadata": {
        "colab": {
          "base_uri": "https://localhost:8080/",
          "height": 585
        },
        "id": "L-yk7dLmOgdX",
        "outputId": "356055da-6d0d-495b-eda5-828ac455a576"
      },
      "execution_count": 60,
      "outputs": [
        {
          "output_type": "stream",
          "name": "stdout",
          "text": [
            "phm2017 labels:\n",
            "   Label  Count\n",
            "1      0   2178\n",
            "0      1   3601\n",
            "2      2    813\n",
            "3      3    599\n",
            "distribution:\n",
            "[0.30287859824780977, 0.5007648449450702, 0.11305798915310805, 0.08329856765401196]\n"
          ]
        },
        {
          "output_type": "display_data",
          "data": {
            "text/plain": [
              "<Figure size 640x480 with 1 Axes>"
            ],
            "image/png": "[encoded data removed]"
          },
          "metadata": {}
        }
      ]
    },
    {
      "cell_type": "code",
      "source": [
        "print(\"phm2017 labels in diseases\")\n",
        "print(\"alzheimers labels\")\n",
        "temp = phm2017_read.loc[phm2017_read['Disease'] == 'alzheimer']\n",
        "#print(temp['Label'].value_counts())\n",
        "\n",
        "phm2017_disease = ['0', '1', '2', '3']\n",
        "df = temp['Label'].value_counts()\n",
        "df = df.reset_index()\n",
        "df.columns = ['Label', 'Count']\n",
        "df2 = df.sort_values('Label')\n",
        "print(df2)\n",
        "phm2017_disease_count = df2.Count.values.tolist()\n",
        "#print(phm2017_disease_count)\n",
        "\n",
        "\n",
        "df = pd.DataFrame({'Label': phm2017_disease, 'Count':phm2017_disease_count})\n",
        "ax = df.plot.bar(x='Label', y='Count', rot=0)\n",
        "\n",
        "print('distribution:')\n",
        "total = df2['Count'].sum() \n",
        "dist = []\n",
        "for index, row in df2.iterrows():\n",
        "  dist.append(row['Count']/total)\n",
        "print(dist)"
      ],
      "metadata": {
        "colab": {
          "base_uri": "https://localhost:8080/",
          "height": 687
        },
        "id": "BmZ4j5IBQXMp",
        "outputId": "2d5420aa-7262-4b25-f311-4a02a95fdb8a"
      },
      "execution_count": 61,
      "outputs": [
        {
          "output_type": "stream",
          "name": "stdout",
          "text": [
            "phm2017 labels in diseases\n",
            "alzheimers labels\n",
            "1    1004\n",
            "2     212\n",
            "0      26\n",
            "3      13\n",
            "Name: Label, dtype: int64\n",
            "   Label  Count\n",
            "2      0     26\n",
            "0      1   1004\n",
            "1      2    212\n",
            "3      3     13\n",
            "distribution:\n",
            "[0.020717131474103586, 0.8, 0.16892430278884463, 0.010358565737051793]\n"
          ]
        },
        {
          "output_type": "display_data",
          "data": {
            "text/plain": [
              "<Figure size 640x480 with 1 Axes>"
            ],
            "image/png": "[encoded data removed]"
          },
          "metadata": {}
        }
      ]
    },
    {
      "cell_type": "code",
      "source": [
        "print(\"cancer labels\")\n",
        "temp = phm2017_read.loc[phm2017_read['Disease'] == 'cancer']\n",
        "#print(temp['Label'].value_counts())\n",
        "\n",
        "phm2017_disease = ['0', '1', '2', '3']\n",
        "df = temp['Label'].value_counts()\n",
        "df = df.reset_index()\n",
        "df.columns = ['Label', 'Count']\n",
        "df2 = df.sort_values('Label')\n",
        "print(df2)\n",
        "phm2017_disease_count = df2.Count.values.tolist()\n",
        "#print(phm2017_disease_count)\n",
        "\n",
        "\n",
        "df = pd.DataFrame({'Label': phm2017_disease, 'Count':phm2017_disease_count})\n",
        "ax = df.plot.bar(x='Label', y='Count', rot=0)\n",
        "\n",
        "print('distribution:')\n",
        "total = df2['Count'].sum() \n",
        "dist = []\n",
        "for index, row in df2.iterrows():\n",
        "  dist.append(row['Count']/total)\n",
        "print(dist)"
      ],
      "metadata": {
        "colab": {
          "base_uri": "https://localhost:8080/",
          "height": 672
        },
        "id": "LRWzRF9LSAY-",
        "outputId": "3f483b97-6119-4dff-d79e-2de4788a3e02"
      },
      "execution_count": 62,
      "outputs": [
        {
          "output_type": "stream",
          "name": "stdout",
          "text": [
            "cancer labels\n",
            "1    771\n",
            "2    221\n",
            "0    211\n",
            "3     39\n",
            "Name: Label, dtype: int64\n",
            "   Label  Count\n",
            "2      0    211\n",
            "0      1    771\n",
            "1      2    221\n",
            "3      3     39\n",
            "distribution:\n",
            "[0.16988727858293076, 0.6207729468599034, 0.177938808373591, 0.03140096618357488]\n"
          ]
        },
        {
          "output_type": "display_data",
          "data": {
            "text/plain": [
              "<Figure size 640x480 with 1 Axes>"
            ],
            "image/png": "[encoded data removed]"
          },
          "metadata": {}
        }
      ]
    },
    {
      "cell_type": "code",
      "source": [
        "print(\"stroke labels\")\n",
        "temp = phm2017_read.loc[phm2017_read['Disease'] == 'stroke']\n",
        "#print(temp['Label'].value_counts())\n",
        "\n",
        "phm2017_disease = ['0', '1', '2', '3']\n",
        "df = temp['Label'].value_counts()\n",
        "df = df.reset_index()\n",
        "df.columns = ['Label', 'Count']\n",
        "df2 = df.sort_values('Label')\n",
        "print(df2)\n",
        "phm2017_disease_count = df2.Count.values.tolist()\n",
        "#print(phm2017_disease_count)\n",
        "\n",
        "\n",
        "df = pd.DataFrame({'Label': phm2017_disease, 'Count':phm2017_disease_count})\n",
        "ax = df.plot.bar(x='Label', y='Count', rot=0)\n",
        "\n",
        "print('distribution:')\n",
        "total = df2['Count'].sum() \n",
        "dist = []\n",
        "for index, row in df2.iterrows():\n",
        "  dist.append(row['Count']/total)\n",
        "print(dist)"
      ],
      "metadata": {
        "colab": {
          "base_uri": "https://localhost:8080/",
          "height": 585
        },
        "id": "nAp4hpBDSni3",
        "outputId": "0dcb9f75-cc27-4815-b491-6cf8464bd626"
      },
      "execution_count": 63,
      "outputs": [
        {
          "output_type": "stream",
          "name": "stdout",
          "text": [
            "stroke labels\n",
            "   Label  Count\n",
            "0      0    701\n",
            "1      1    353\n",
            "2      2    137\n",
            "3      3     31\n",
            "distribution:\n",
            "[0.5736497545008183, 0.2888707037643208, 0.11211129296235679, 0.02536824877250409]\n"
          ]
        },
        {
          "output_type": "display_data",
          "data": {
            "text/plain": [
              "<Figure size 640x480 with 1 Axes>"
            ],
            "image/png": "[encoded data removed]"
          },
          "metadata": {}
        }
      ]
    },
    {
      "cell_type": "code",
      "source": [
        "print(\"heart attack labels\")\n",
        "temp = phm2017_read.loc[phm2017_read['Disease'] == 'heart attack']\n",
        "#print(temp['Label'].value_counts())\n",
        "\n",
        "phm2017_disease = ['0', '1', '2', '3']\n",
        "df = temp['Label'].value_counts()\n",
        "df = df.reset_index()\n",
        "df.columns = ['Label', 'Count']\n",
        "df2 = df.sort_values('Label')\n",
        "print(df2)\n",
        "phm2017_disease_count = df2.Count.values.tolist()\n",
        "#print(phm2017_disease_count)\n",
        "\n",
        "\n",
        "df = pd.DataFrame({'Label': phm2017_disease, 'Count':phm2017_disease_count})\n",
        "ax = df.plot.bar(x='Label', y='Count', rot=0)\n",
        "\n",
        "print('distribution:')\n",
        "total = df2['Count'].sum() \n",
        "dist = []\n",
        "for index, row in df2.iterrows():\n",
        "  dist.append(row['Count']/total)\n",
        "print(dist)"
      ],
      "metadata": {
        "colab": {
          "base_uri": "https://localhost:8080/",
          "height": 585
        },
        "id": "qlll_OCLS8a6",
        "outputId": "82328023-42f4-4670-e539-3c031256d644"
      },
      "execution_count": 64,
      "outputs": [
        {
          "output_type": "stream",
          "name": "stdout",
          "text": [
            "heart attack labels\n",
            "   Label  Count\n",
            "0      0    855\n",
            "1      1    207\n",
            "2      2    109\n",
            "3      3     48\n",
            "distribution:\n",
            "[0.7013945857260049, 0.16981132075471697, 0.08941755537325677, 0.03937653814602133]\n"
          ]
        },
        {
          "output_type": "display_data",
          "data": {
            "text/plain": [
              "<Figure size 640x480 with 1 Axes>"
            ],
            "image/png": "[encoded data removed]"
          },
          "metadata": {}
        }
      ]
    },
    {
      "cell_type": "code",
      "source": [
        "print(\"depression labels\")\n",
        "temp = phm2017_read.loc[phm2017_read['Disease'] == 'depression']\n",
        "#print(temp['Label'].value_counts())\n",
        "\n",
        "phm2017_disease = ['0', '1', '2', '3']\n",
        "df = temp['Label'].value_counts()\n",
        "df = df.reset_index()\n",
        "df.columns = ['Label', 'Count']\n",
        "df2 = df.sort_values('Label')\n",
        "print(df2)\n",
        "phm2017_disease_count = df2.Count.values.tolist()\n",
        "#print(phm2017_disease_count)\n",
        "\n",
        "\n",
        "df = pd.DataFrame({'Label': phm2017_disease, 'Count':phm2017_disease_count})\n",
        "ax = df.plot.bar(x='Label', y='Count', rot=0)\n",
        "\n",
        "print('distribution:')\n",
        "total = df2['Count'].sum() \n",
        "dist = []\n",
        "for index, row in df2.iterrows():\n",
        "  dist.append(row['Count']/total)\n",
        "print(dist)"
      ],
      "metadata": {
        "colab": {
          "base_uri": "https://localhost:8080/",
          "height": 585
        },
        "id": "8DTFKCoxTFQ_",
        "outputId": "499d76d0-f19a-4a83-d783-0c166ff2eaf4"
      },
      "execution_count": 66,
      "outputs": [
        {
          "output_type": "stream",
          "name": "stdout",
          "text": [
            "depression labels\n",
            "   Label  Count\n",
            "2      0    130\n",
            "0      1    594\n",
            "3      2     40\n",
            "1      3    449\n",
            "distribution:\n",
            "[0.10717230008244023, 0.4896949711459192, 0.03297609233305853, 0.37015663643858204]\n"
          ]
        },
        {
          "output_type": "display_data",
          "data": {
            "text/plain": [
              "<Figure size 640x480 with 1 Axes>"
            ],
            "image/png": "[encoded data removed]"
          },
          "metadata": {}
        }
      ]
    },
    {
      "cell_type": "code",
      "source": [
        "print(\"parkinson labels\")\n",
        "temp = phm2017_read.loc[phm2017_read['Disease'] == 'parkinson']\n",
        "#print(temp['Label'].value_counts())\n",
        "\n",
        "phm2017_disease = ['0', '1', '2', '3']\n",
        "df = temp['Label'].value_counts()\n",
        "df = df.reset_index()\n",
        "df.columns = ['Label', 'Count']\n",
        "df2 = df.sort_values('Label')\n",
        "print(df2)\n",
        "phm2017_disease_count = df2.Count.values.tolist()\n",
        "#print(phm2017_disease_count)\n",
        "\n",
        "\n",
        "df = pd.DataFrame({'Label': phm2017_disease, 'Count':phm2017_disease_count})\n",
        "ax = df.plot.bar(x='Label', y='Count', rot=0)\n",
        "\n",
        "print('distribution:')\n",
        "total = df2['Count'].sum() \n",
        "dist = []\n",
        "for index, row in df2.iterrows():\n",
        "  dist.append(row['Count']/total)\n",
        "print(dist)"
      ],
      "metadata": {
        "colab": {
          "base_uri": "https://localhost:8080/",
          "height": 588
        },
        "id": "OSB3ezTyUVaD",
        "outputId": "fbfed8fc-5e7e-44eb-d0ec-e61cd6ad9373"
      },
      "execution_count": 65,
      "outputs": [
        {
          "output_type": "stream",
          "name": "stdout",
          "text": [
            "parkinson labels\n",
            "   Label  Count\n",
            "1      0    255\n",
            "0      1    672\n",
            "2      2     94\n",
            "3      3     19\n",
            "distribution:\n",
            "[0.24519230769230768, 0.6461538461538462, 0.09038461538461538, 0.01826923076923077]\n"
          ]
        },
        {
          "output_type": "display_data",
          "data": {
            "text/plain": [
              "<Figure size 640x480 with 1 Axes>"
            ],
            "image/png": "[encoded data removed]"
          },
          "metadata": {}
        }
      ]
    }
  ]
}